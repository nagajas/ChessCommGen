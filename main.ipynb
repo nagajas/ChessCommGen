{
 "cells": [
  {
   "cell_type": "code",
   "execution_count": 1,
   "metadata": {},
   "outputs": [
    {
     "name": "stderr",
     "output_type": "stream",
     "text": [
      "/home/nagajas/.conda/envs/.venv/lib/python3.11/site-packages/tqdm/auto.py:21: TqdmWarning: IProgress not found. Please update jupyter and ipywidgets. See https://ipywidgets.readthedocs.io/en/stable/user_install.html\n",
      "  from .autonotebook import tqdm as notebook_tqdm\n"
     ]
    }
   ],
   "source": [
    "import pandas as pd\n",
    "from torch.utils.data import Dataset, DataLoader\n",
    "from transformers import T5Tokenizer, T5ForConditionalGeneration\n",
    "import torch\n",
    "from tqdm import tqdm"
   ]
  },
  {
   "cell_type": "code",
   "execution_count": 2,
   "metadata": {},
   "outputs": [],
   "source": [
    "class ChessDataset(Dataset):\n",
    "    def __init__(self, csv_file, tokenizer, max_len=512):\n",
    "        self.data = pd.read_csv(csv_file)\n",
    "        self.tokenizer = tokenizer\n",
    "        self.max_len = max_len\n",
    "\n",
    "        self.data[\"Delta\"] = self.data[\"Delta\"].apply(\n",
    "            lambda x: 0 if pd.isna(x) or x == \"Mate\" else x\n",
    "        )\n",
    "        self.data[\"Top K Best Moves\"] = self.data[\"Top K Best Moves\"].apply(\n",
    "            lambda x: \"No moves\" if not isinstance(x, str) or not x.strip() else x\n",
    "        )\n",
    "        self.data[\"Commentary\"] = self.data[\"Commentary\"].apply(\n",
    "            lambda x: \"No commentary available\" if not isinstance(x, str) or not x.strip() else x\n",
    "        )\n",
    "        self.data['Eval Before'] = pd.to_numeric(self.data['Eval Before'], errors='coerce').fillna(0)\n",
    "        self.data['Eval After'] = pd.to_numeric(self.data['Eval After'], errors='coerce').fillna(0)\n",
    "\n",
    "    def __len__(self):\n",
    "        return len(self.data)\n",
    "\n",
    "    def __getitem__(self, idx):\n",
    "        row = self.data.iloc[idx]\n",
    "        input_text = (\n",
    "            f\"Chess Commentary Generation: \"\n",
    "            f\"History: {row['History (PGN)']} | Current Move: {row['Move']} | \"\n",
    "            f\"Evaluation Before: {row['Eval Before']} ({'Advantage to White' if row['Eval Before'] > 0 else 'Advantage to Black'}) | \"\n",
    "            f\"Evaluation After: {row['Eval After']} ({'Improved' if row['Eval After'] > row['Eval Before'] else 'Declined'}) | \"\n",
    "            f\"Delta: {row['Delta']} | Top Suggestions: {row['Top K Best Moves']}\"\n",
    "        )\n",
    "        commentary = row[\"Commentary\"]\n",
    "\n",
    "        input_encoding = self.tokenizer(\n",
    "            input_text,\n",
    "            max_length=self.max_len,\n",
    "            padding=\"max_length\",\n",
    "            truncation=True,\n",
    "            return_tensors=\"pt\",\n",
    "        )\n",
    "        target_encoding = self.tokenizer(\n",
    "            commentary,\n",
    "            max_length=self.max_len,\n",
    "            padding=\"max_length\",\n",
    "            truncation=True,\n",
    "            return_tensors=\"pt\",\n",
    "        )\n",
    "\n",
    "        return {\n",
    "            \"input_ids\": input_encoding[\"input_ids\"].squeeze(0),\n",
    "            \"attention_mask\": input_encoding[\"attention_mask\"].squeeze(0),\n",
    "            \"labels\": target_encoding[\"input_ids\"].squeeze(0),\n",
    "        }\n"
   ]
  },
  {
   "cell_type": "code",
   "execution_count": 3,
   "metadata": {},
   "outputs": [],
   "source": [
    "def train_and_evaluate(\n",
    "    model, train_loader, val_loader, epochs, learning_rate, device, log_interval=100\n",
    "):\n",
    "    optimizer = torch.optim.AdamW(model.parameters(), lr=learning_rate)\n",
    "    scheduler = torch.optim.lr_scheduler.StepLR(optimizer, step_size=1, gamma=0.95)\n",
    "\n",
    "    for epoch in range(epochs):\n",
    "        print(f\"Epoch {epoch + 1}/{epochs}\")\n",
    "        model.train()\n",
    "        total_train_loss = 0\n",
    "        correct_train_predictions = 0\n",
    "        total_train_samples = 0\n",
    "\n",
    "        for step, batch in enumerate(tqdm(train_loader, desc=\"Training\"), 1):\n",
    "            optimizer.zero_grad()\n",
    "\n",
    "            outputs = model(\n",
    "                input_ids=batch[\"input_ids\"].to(device),\n",
    "                attention_mask=batch[\"attention_mask\"].to(device),\n",
    "                labels=batch[\"labels\"].to(device),\n",
    "            )\n",
    "            loss = outputs.loss\n",
    "            loss.backward()\n",
    "            optimizer.step()\n",
    "            scheduler.step()\n",
    "\n",
    "            total_train_loss += loss.item()\n",
    "\n",
    "            # Calculate accuracy for training\n",
    "            logits = outputs.logits.argmax(dim=-1)\n",
    "            correct_train_predictions += (\n",
    "                (logits == batch[\"labels\"].to(device)).float().mean().item()\n",
    "            )\n",
    "            total_train_samples += 1\n",
    "\n",
    "            if step % log_interval == 0:\n",
    "                train_loss = total_train_loss / step\n",
    "                train_accuracy = correct_train_predictions / total_train_samples\n",
    "                val_loss, val_accuracy = evaluate_model(model, val_loader, device)\n",
    "\n",
    "                print(\n",
    "                    f\"Step {step} | \"\n",
    "                    f\"Train Loss: {train_loss:.4f} | Train Accuracy: {train_accuracy:.4f} | \"\n",
    "                    f\"Validation Loss: {val_loss:.4f} | Validation Accuracy: {val_accuracy:.4f}\"\n",
    "                )\n",
    "\n",
    "        print(\n",
    "            f\"Epoch {epoch + 1} Summary: \"\n",
    "            f\"Train Loss: {total_train_loss / len(train_loader):.4f} | \"\n",
    "            f\"Train Accuracy: {correct_train_predictions / total_train_samples:.4f}\"\n",
    "        )"
   ]
  },
  {
   "cell_type": "code",
   "execution_count": 4,
   "metadata": {},
   "outputs": [],
   "source": [
    "def evaluate_model(model, val_loader, device):\n",
    "    model.eval()\n",
    "    total_val_loss = 0\n",
    "    correct_val_predictions = 0\n",
    "    total_val_samples = 0\n",
    "\n",
    "    with torch.no_grad():\n",
    "        for batch in tqdm(val_loader, desc=\"Validation\", leave=False):\n",
    "            outputs = model(\n",
    "                input_ids=batch[\"input_ids\"].to(device),\n",
    "                attention_mask=batch[\"attention_mask\"].to(device),\n",
    "                labels=batch[\"labels\"].to(device),\n",
    "            )\n",
    "            loss = outputs.loss\n",
    "            total_val_loss += loss.item()\n",
    "\n",
    "            logits = outputs.logits.argmax(dim=-1)\n",
    "            correct_val_predictions += (\n",
    "                (logits == batch[\"labels\"].to(device)).float().mean().item()\n",
    "            )\n",
    "            total_val_samples += 1\n",
    "\n",
    "    avg_val_loss = total_val_loss / len(val_loader)\n",
    "    avg_val_accuracy = correct_val_predictions / total_val_samples\n",
    "    return avg_val_loss, avg_val_accuracy"
   ]
  },
  {
   "cell_type": "code",
   "execution_count": 6,
   "metadata": {},
   "outputs": [
    {
     "name": "stdout",
     "output_type": "stream",
     "text": [
      "Requirement already satisfied: sentencepiece in /home/nagajas/.conda/envs/.venv/lib/python3.11/site-packages (0.2.0)\n",
      "Note: you may need to restart the kernel to use updated packages.\n",
      "Epoch 1/2\n"
     ]
    },
    {
     "name": "stderr",
     "output_type": "stream",
     "text": [
      "Training:   0%|          | 0/875 [00:00<?, ?it/s]Passing a tuple of `past_key_values` is deprecated and will be removed in Transformers v4.48.0. You should pass an instance of `EncoderDecoderCache` instead, e.g. `past_key_values=EncoderDecoderCache.from_legacy_cache(past_key_values)`.\n",
      "Training:  11%|█▏        | 100/875 [01:16<2:08:13,  9.93s/it]"
     ]
    },
    {
     "name": "stdout",
     "output_type": "stream",
     "text": [
      "Step 100 | Train Loss: 0.8170 | Train Accuracy: 0.9069 | Validation Loss: 0.3239 | Validation Accuracy: 0.9556\n"
     ]
    },
    {
     "name": "stderr",
     "output_type": "stream",
     "text": [
      "Training:  23%|██▎       | 200/875 [02:31<1:52:36, 10.01s/it]"
     ]
    },
    {
     "name": "stdout",
     "output_type": "stream",
     "text": [
      "Step 200 | Train Loss: 0.5775 | Train Accuracy: 0.9302 | Validation Loss: 0.3229 | Validation Accuracy: 0.9556\n"
     ]
    },
    {
     "name": "stderr",
     "output_type": "stream",
     "text": [
      "Training:  34%|███▍      | 300/875 [03:46<1:35:50, 10.00s/it]"
     ]
    },
    {
     "name": "stdout",
     "output_type": "stream",
     "text": [
      "Step 300 | Train Loss: 0.4977 | Train Accuracy: 0.9379 | Validation Loss: 0.3228 | Validation Accuracy: 0.9556\n"
     ]
    },
    {
     "name": "stderr",
     "output_type": "stream",
     "text": [
      "Training:  46%|████▌     | 400/875 [05:01<1:19:10, 10.00s/it]"
     ]
    },
    {
     "name": "stdout",
     "output_type": "stream",
     "text": [
      "Step 400 | Train Loss: 0.4580 | Train Accuracy: 0.9418 | Validation Loss: 0.3228 | Validation Accuracy: 0.9556\n"
     ]
    },
    {
     "name": "stderr",
     "output_type": "stream",
     "text": [
      "Training:  57%|█████▋    | 500/875 [06:15<1:02:37, 10.02s/it]"
     ]
    },
    {
     "name": "stdout",
     "output_type": "stream",
     "text": [
      "Step 500 | Train Loss: 0.4313 | Train Accuracy: 0.9445 | Validation Loss: 0.3228 | Validation Accuracy: 0.9556\n"
     ]
    },
    {
     "name": "stderr",
     "output_type": "stream",
     "text": [
      "Training:  69%|██████▊   | 600/875 [07:30<45:54, 10.02s/it]  "
     ]
    },
    {
     "name": "stdout",
     "output_type": "stream",
     "text": [
      "Step 600 | Train Loss: 0.4110 | Train Accuracy: 0.9467 | Validation Loss: 0.3228 | Validation Accuracy: 0.9556\n"
     ]
    },
    {
     "name": "stderr",
     "output_type": "stream",
     "text": [
      "Training:  80%|████████  | 700/875 [08:45<29:09, 10.00s/it]"
     ]
    },
    {
     "name": "stdout",
     "output_type": "stream",
     "text": [
      "Step 700 | Train Loss: 0.3968 | Train Accuracy: 0.9483 | Validation Loss: 0.3228 | Validation Accuracy: 0.9556\n"
     ]
    },
    {
     "name": "stderr",
     "output_type": "stream",
     "text": [
      "Training:  91%|█████████▏| 800/875 [09:59<12:31, 10.02s/it]"
     ]
    },
    {
     "name": "stdout",
     "output_type": "stream",
     "text": [
      "Step 800 | Train Loss: 0.3905 | Train Accuracy: 0.9487 | Validation Loss: 0.3228 | Validation Accuracy: 0.9556\n"
     ]
    },
    {
     "name": "stderr",
     "output_type": "stream",
     "text": [
      "Training: 100%|██████████| 875/875 [10:32<00:00,  1.38it/s]\n"
     ]
    },
    {
     "name": "stdout",
     "output_type": "stream",
     "text": [
      "Epoch 1 Summary: Train Loss: 0.3836 | Train Accuracy: 0.9495\n",
      "Epoch 2/2\n"
     ]
    },
    {
     "name": "stderr",
     "output_type": "stream",
     "text": [
      "Training:  11%|█▏        | 100/875 [01:17<2:09:23, 10.02s/it]"
     ]
    },
    {
     "name": "stdout",
     "output_type": "stream",
     "text": [
      "Step 100 | Train Loss: 0.3840 | Train Accuracy: 0.9452 | Validation Loss: 0.3228 | Validation Accuracy: 0.9556\n"
     ]
    },
    {
     "name": "stderr",
     "output_type": "stream",
     "text": [
      "Training:  23%|██▎       | 200/875 [02:32<1:52:39, 10.01s/it]"
     ]
    },
    {
     "name": "stdout",
     "output_type": "stream",
     "text": [
      "Step 200 | Train Loss: 0.3563 | Train Accuracy: 0.9500 | Validation Loss: 0.3228 | Validation Accuracy: 0.9556\n"
     ]
    },
    {
     "name": "stderr",
     "output_type": "stream",
     "text": [
      "Training:  34%|███▍      | 300/875 [03:46<1:35:50, 10.00s/it]"
     ]
    },
    {
     "name": "stdout",
     "output_type": "stream",
     "text": [
      "Step 300 | Train Loss: 0.3445 | Train Accuracy: 0.9520 | Validation Loss: 0.3228 | Validation Accuracy: 0.9556\n"
     ]
    },
    {
     "name": "stderr",
     "output_type": "stream",
     "text": [
      "Training:  46%|████▌     | 400/875 [05:01<1:19:17, 10.02s/it]"
     ]
    },
    {
     "name": "stdout",
     "output_type": "stream",
     "text": [
      "Step 400 | Train Loss: 0.3434 | Train Accuracy: 0.9522 | Validation Loss: 0.3228 | Validation Accuracy: 0.9556\n"
     ]
    },
    {
     "name": "stderr",
     "output_type": "stream",
     "text": [
      "Training:  57%|█████▋    | 500/875 [06:16<1:02:40, 10.03s/it]"
     ]
    },
    {
     "name": "stdout",
     "output_type": "stream",
     "text": [
      "Step 500 | Train Loss: 0.3414 | Train Accuracy: 0.9527 | Validation Loss: 0.3228 | Validation Accuracy: 0.9556\n"
     ]
    },
    {
     "name": "stderr",
     "output_type": "stream",
     "text": [
      "Training:  69%|██████▊   | 600/875 [07:30<45:46,  9.99s/it]  "
     ]
    },
    {
     "name": "stdout",
     "output_type": "stream",
     "text": [
      "Step 600 | Train Loss: 0.3380 | Train Accuracy: 0.9532 | Validation Loss: 0.3228 | Validation Accuracy: 0.9556\n"
     ]
    },
    {
     "name": "stderr",
     "output_type": "stream",
     "text": [
      "Training:  80%|████████  | 700/875 [08:45<29:09, 10.00s/it]"
     ]
    },
    {
     "name": "stdout",
     "output_type": "stream",
     "text": [
      "Step 700 | Train Loss: 0.3377 | Train Accuracy: 0.9533 | Validation Loss: 0.3228 | Validation Accuracy: 0.9556\n"
     ]
    },
    {
     "name": "stderr",
     "output_type": "stream",
     "text": [
      "Training:  91%|█████████▏| 800/875 [10:00<12:30, 10.01s/it]"
     ]
    },
    {
     "name": "stdout",
     "output_type": "stream",
     "text": [
      "Step 800 | Train Loss: 0.3373 | Train Accuracy: 0.9534 | Validation Loss: 0.3228 | Validation Accuracy: 0.9556\n"
     ]
    },
    {
     "name": "stderr",
     "output_type": "stream",
     "text": [
      "Training: 100%|██████████| 875/875 [10:32<00:00,  1.38it/s]\n"
     ]
    },
    {
     "name": "stdout",
     "output_type": "stream",
     "text": [
      "Epoch 2 Summary: Train Loss: 0.3354 | Train Accuracy: 0.9537\n",
      "Model and tokenizer saved.\n"
     ]
    }
   ],
   "source": [
    "%pip install sentencepiece\n",
    "\n",
    "if __name__ == \"__main__\":\n",
    "    TRAIN_FILE = \"./data/train.csv\"  \n",
    "    VAL_FILE = \"./data/val.csv\" \n",
    "    MODEL_NAME = \"t5-small\" \n",
    "    MAX_LEN = 512\n",
    "    BATCH_SIZE = 8  \n",
    "    EPOCHS = 2\n",
    "    LEARNING_RATE = 5e-4 \n",
    "    DEVICE = torch.device(\"cuda\" if torch.cuda.is_available() else \"cpu\")\n",
    "\n",
    "    tokenizer = T5Tokenizer.from_pretrained(MODEL_NAME)\n",
    "    model = T5ForConditionalGeneration.from_pretrained(MODEL_NAME)\n",
    "    model.to(DEVICE)\n",
    "\n",
    "    train_dataset = ChessDataset(TRAIN_FILE, tokenizer, MAX_LEN)\n",
    "    val_dataset = ChessDataset(VAL_FILE, tokenizer, MAX_LEN)\n",
    "\n",
    "    train_loader = DataLoader(train_dataset, batch_size=BATCH_SIZE, shuffle=True)\n",
    "    val_loader = DataLoader(val_dataset, batch_size=BATCH_SIZE, shuffle=False)\n",
    "\n",
    "    train_and_evaluate(model, train_loader, val_loader, EPOCHS, LEARNING_RATE, DEVICE)\n",
    "\n",
    "    model.save_pretrained(\"./chess_commentary_model\")\n",
    "    tokenizer.save_pretrained(\"./chess_commentary_model\")\n",
    "    print(\"Model and tokenizer saved.\")"
   ]
  }
 ],
 "metadata": {
  "kernelspec": {
   "display_name": ".venv",
   "language": "python",
   "name": "python3"
  },
  "language_info": {
   "codemirror_mode": {
    "name": "ipython",
    "version": 3
   },
   "file_extension": ".py",
   "mimetype": "text/x-python",
   "name": "python",
   "nbconvert_exporter": "python",
   "pygments_lexer": "ipython3",
   "version": "3.11.10"
  }
 },
 "nbformat": 4,
 "nbformat_minor": 2
}
