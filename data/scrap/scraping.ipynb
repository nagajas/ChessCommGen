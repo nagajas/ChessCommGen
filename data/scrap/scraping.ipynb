{
 "cells": [
  {
   "cell_type": "code",
   "execution_count": 2,
   "metadata": {},
   "outputs": [],
   "source": [
    "import requests\n",
    "from bs4 import BeautifulSoup\n",
    "import os\n",
    "import json\n",
    "from tqdm import tqdm\n",
    "import numpy as np"
   ]
  },
  {
   "cell_type": "code",
   "execution_count": 3,
   "metadata": {},
   "outputs": [],
   "source": [
    "links_file_path = \"saved_files/saved_links.p\"\n",
    "page_count_file_path = \"saved_files/extra_pages.p\"\n",
    "\n",
    "output_dir_path = \"saved_files\"\n",
    "os.makedirs(output_dir_path, exist_ok=True)\n",
    "\n",
    "output_file_path = os.path.join(output_dir_path, \"move_commentary.txt\")\n"
   ]
  },
  {
   "cell_type": "code",
   "execution_count": 4,
   "metadata": {},
   "outputs": [
    {
     "name": "stdout",
     "output_type": "stream",
     "text": [
      "11600\n",
      "['https://gameknot.com/annotation.pl/tiger-claws?gm=72088', 'https://gameknot.com/annotation.pl/challenge-from-alextdc?gm=72071', 'https://gameknot.com/annotation.pl/shrewsbury-v-darwinian-knights?gm=72046', 'https://gameknot.com/annotation.pl/o-c-rijs-25-oktober-2024?gm=72042', 'https://gameknot.com/annotation.pl/maddocks-a-v-shrewsbury-a?gm=72003', 'https://gameknot.com/annotation.pl/a-naj-idea?gm=71984', 'https://gameknot.com/annotation.pl/lets-play-chess?gm=71967', 'https://gameknot.com/annotation.pl/sour-tart?gm=71958', 'https://gameknot.com/annotation.pl/chess-game?gm=71957', 'https://gameknot.com/annotation.pl/the-torphy-fish-that-got-away?gm=71954']\n",
      "[0, 0, 2, 0, 0, 0, 0, 4, 2, 2]\n"
     ]
    }
   ],
   "source": [
    "all_data = []\n",
    "\n",
    "saved_links = np.load(links_file_path, allow_pickle=True)\n",
    "extra_pages = np.load(page_count_file_path, allow_pickle=True)\n",
    "\n",
    "print(len(saved_links))\n",
    "print(saved_links[:10])\n",
    "print(extra_pages[:10])"
   ]
  },
  {
   "cell_type": "code",
   "execution_count": 6,
   "metadata": {},
   "outputs": [],
   "source": [
    "worked = 0\n",
    "with open(output_file_path,'w') as f:\n",
    "    for idx, link in enumerate(tqdm(saved_links[:10]), start=1):#Sample\n",
    "        try:\n",
    "            r = requests.get(link)\n",
    "            \n",
    "            if r.status_code == 200:\n",
    "                soup = BeautifulSoup(r.content, 'html.parser')\n",
    "                \n",
    "                rows = soup.find_all('tr')\n",
    "                \n",
    "                for row in rows:\n",
    "                    move_td = row.find('td', rowspan='2', style=lambda value: value and 'vertical-align: top' in value)\n",
    "                    comment_td = row.find('td', style=\"vertical-align: top;\")\n",
    "                    \n",
    "                    if move_td and comment_td:\n",
    "                        move_text = move_td.get_text(separator=' ', strip=True)\n",
    "                        move_text = ' '.join(move_text.split())\n",
    "                        \n",
    "                        comment_text = comment_td.get_text(separator=' ', strip=True)\n",
    "                        comment_text = ' '.join(comment_text.split())\n",
    "\n",
    "                        f.write(f\"{move_text} <sep> {comment_text}\\n\")\n",
    "                        worked += 1\n",
    "\n",
    "            else:\n",
    "                pass\n",
    "                #print(f\"Failed to fetch link {idx} with status code {r.status_code}\")\n",
    "        except Exception as e:\n",
    "            pass\n",
    "            #print(f\"Error while processing link {idx}: {e}\")\n",
    "\n",
    "print(f\"Scraped data for {worked} entries.\")\n",
    "print(f\"All data saved in: {output_file_path}\")"
   ]
  },
  {
   "cell_type": "code",
   "execution_count": 5,
   "metadata": {},
   "outputs": [
    {
     "data": {
      "text/plain": [
       "['1. c4 c5 2. Nf3 Nf6 3. d4 cxd4 4. Nxd4 g6 <sep> Many 4th moves for Black have been tried here, such as ... P - Q 4, ... Kt - B 3 and ... P - K 3. The line has not been fully worked out.\\n',\n",
       " '5. Nc3 d5 <sep> White was threatening 6 P - K 4, transposing to the Maroczy bind.\\n',\n",
       " '6. Bg5 <sep> A better choice than 6 P x P, which leads to an equal position.\\n',\n",
       " '6... dxc4 7. e3 Qa5 <sep> Premature. Better was 7... B - Kt 2.\\n',\n",
       " '8. Bxf6 exf6 9. Bxc4 Bb4 <sep> That he has played for the fianchetto and then developed the Bishop here is one reason Black is behind in development.\\n',\n",
       " '10. Rc1 a6 <sep> Another time-wasting move. Better would be 10 O-O.\\n',\n",
       " '11. O-O Nd7 12. a3 Be7 13. b4 <sep> Expanding his position very forcefully.\\n',\n",
       " '13... Qe5 <sep> An error. Best was 13... Q - Q 1.\\n',\n",
       " '14. f4 <sep> A stunning surprise. If 14... Q x K P ch, White plays 15 K - R 1 and the Black Queen is trapped. White will play 16 R - B 3 and win the errant Queen.\\n',\n",
       " '14... Qb8 15. Bxf7+ <sep> The position is ripe for a combinative finish.\\n']"
      ]
     },
     "execution_count": 5,
     "metadata": {},
     "output_type": "execute_result"
    }
   ],
   "source": [
    "with open(output_file_path, 'r') as f:\n",
    "    data = f.readlines()\n",
    "\n",
    "data[:10]"
   ]
  },
  {
   "cell_type": "code",
   "execution_count": 6,
   "metadata": {},
   "outputs": [],
   "source": [
    "new_output_path = os.path.join(output_dir_path, \"game_commentary.txt\")"
   ]
  },
  {
   "cell_type": "code",
   "execution_count": 7,
   "metadata": {},
   "outputs": [
    {
     "name": "stdout",
     "output_type": "stream",
     "text": [
      "Total games found: 11600\n",
      "Data saved in: saved_files/game_commentary.txt\n"
     ]
    }
   ],
   "source": [
    "with open(new_output_path, 'w') as f:\n",
    "    newgames = 0\n",
    "    for line in data:\n",
    "        moves_list, _ = line.split(\"<sep>\")\n",
    "        if moves_list.startswith(\"1.\") and not moves_list.startswith(\"1...\"):\n",
    "            newgames += 1\n",
    "            f.write('\\n\\n')\n",
    "        \n",
    "        f.write(line.strip() + '<move>')\n",
    "\n",
    "print(f\"Total games found: {newgames}\")\n",
    "print(f\"Data saved in: {new_output_path}\")"
   ]
  }
 ],
 "metadata": {
  "kernelspec": {
   "display_name": ".venv",
   "language": "python",
   "name": "python3"
  },
  "language_info": {
   "codemirror_mode": {
    "name": "ipython",
    "version": 3
   },
   "file_extension": ".py",
   "mimetype": "text/x-python",
   "name": "python",
   "nbconvert_exporter": "python",
   "pygments_lexer": "ipython3",
   "version": "3.11.10"
  }
 },
 "nbformat": 4,
 "nbformat_minor": 2
}
