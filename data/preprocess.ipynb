{
 "cells": [
  {
   "cell_type": "code",
   "execution_count": 39,
   "metadata": {},
   "outputs": [],
   "source": [
    "import chess\n",
    "import chess.engine\n",
    "import pandas as pd\n",
    "from tqdm import tqdm\n",
    "from sklearn.model_selection import train_test_split"
   ]
  },
  {
   "cell_type": "code",
   "execution_count": 40,
   "metadata": {},
   "outputs": [],
   "source": [
    "stockfish_path = \"../engine/stockfish-ubuntu-x86-64-avx2\"\n",
    "engine = chess.engine.SimpleEngine.popen_uci(stockfish_path)"
   ]
  },
  {
   "cell_type": "code",
   "execution_count": 41,
   "metadata": {},
   "outputs": [
    {
     "name": "stdout",
     "output_type": "stream",
     "text": [
      "Number of lines:  11601\n"
     ]
    }
   ],
   "source": [
    "with open(\"./scrap/saved_files/game_commentary.txt\", \"r\") as f:\n",
    "    lines = f.readlines()\n",
    "\n",
    "print(\"Number of lines: \", len(lines))"
   ]
  },
  {
   "cell_type": "code",
   "execution_count": 42,
   "metadata": {},
   "outputs": [],
   "source": [
    "def determine_phase(board):\n",
    "    moves = len(board.move_stack)\n",
    "    num_pieces = len(board.piece_map())\n",
    "    if moves <= 10:\n",
    "        return \"Opening\"\n",
    "    elif num_pieces <= 12:\n",
    "        return \"Endgame\"\n",
    "    else:\n",
    "        return \"Middlegame\""
   ]
  },
  {
   "cell_type": "code",
   "execution_count": null,
   "metadata": {},
   "outputs": [
    {
     "name": "stderr",
     "output_type": "stream",
     "text": [
      "  0%|          | 0/5 [00:00<?, ?it/s]"
     ]
    },
    {
     "name": "stderr",
     "output_type": "stream",
     "text": [
      "100%|██████████| 15/15 [00:21<00:00,  1.42s/it]\n",
      "100%|██████████| 12/12 [00:14<00:00,  1.23s/it]\n",
      "100%|██████████| 21/21 [00:29<00:00,  1.42s/it]\n",
      "100%|██████████| 7/7 [00:09<00:00,  1.30s/it]\n",
      "100%|██████████| 5/5 [01:14<00:00, 14.99s/it]"
     ]
    },
    {
     "name": "stdout",
     "output_type": "stream",
     "text": [
      "Number of games:  4\n"
     ]
    },
    {
     "name": "stderr",
     "output_type": "stream",
     "text": [
      "\n"
     ]
    }
   ],
   "source": [
    "games = 0\n",
    "data = []\n",
    "\n",
    "for line in lines:\n",
    "    if len(data) > 10000:\n",
    "        break\n",
    "    if not line.strip():\n",
    "        continue\n",
    "    if line.startswith(\"1.\") and not line.startswith(\"1...\"): \n",
    "        games += 1\n",
    "        board = chess.Board()\n",
    "        history = []\n",
    "\n",
    "    game_segments = line.strip().split(\"<move>\")\n",
    "    \n",
    "    for gc in tqdm(game_segments):\n",
    "        moves_commentary = gc.split(\"<sep>\")\n",
    "        if len(moves_commentary) == 1:\n",
    "            continue\n",
    "\n",
    "        pgn_moves, commentary = moves_commentary[0].strip(), moves_commentary[1].strip()\n",
    "\n",
    "        move_list = pgn_moves.split(\" \")\n",
    "        eval_before, eval_after, delta_eval, top_k_best_moves = None, None, None, []\n",
    "\n",
    "        for idx, move in enumerate(move_list):\n",
    "            if move[0] in \"0123456789\": \n",
    "                continue\n",
    "            try:\n",
    "                chess_move = board.push_san(move)\n",
    "                history.append(move)\n",
    "\n",
    "                if idx == len(move_list) - 1: \n",
    "                    if len(board.move_stack) > 1:\n",
    "                        board.pop()  \n",
    "                        eval_before = engine.analyse(board, chess.engine.Limit(time=0.5))[\"score\"].relative\n",
    "                        eval_before = eval_before.score() if not eval_before.is_mate() else \"Mate\"\n",
    "                        board.push(chess_move)\n",
    "\n",
    "                    eval_after = engine.analyse(board, chess.engine.Limit(time=0.5))[\"score\"].relative\n",
    "                    eval_after = eval_after.score() if not eval_after.is_mate() else \"Mate\"\n",
    "\n",
    "                    if isinstance(eval_before, int) and isinstance(eval_after, int):\n",
    "                        delta_eval = eval_after - eval_before\n",
    "\n",
    "                    if not eval_after == \"Mate\":                    \n",
    "                        best_moves = engine.analyse(board, chess.engine.Limit(time=0.5))[\"pv\"][:3]\n",
    "                        top_k_best_moves = [move.uci() for move in best_moves]\n",
    "                    else:\n",
    "                        top_k_best_moves = []\n",
    "\n",
    "                    data.append({\n",
    "                        \"Move\": move,\n",
    "                        \"History (PGN)\": \" \".join(history[:-1]),\n",
    "                        \"Commentary\": commentary,\n",
    "                        \"Eval Before\": eval_before,\n",
    "                        \"Eval After\": eval_after,\n",
    "                        \"Delta\": delta_eval,\n",
    "                        \"Top K Best Moves\": \", \".join(top_k_best_moves)\n",
    "                    })\n",
    "            except ValueError:\n",
    "                #print(f\"Invalid move: {move}\")\n",
    "                break\n",
    "\n",
    "print(\"Number of games: \", games)\n",
    "\n",
    "engine.quit()"
   ]
  },
  {
   "cell_type": "code",
   "execution_count": 48,
   "metadata": {},
   "outputs": [],
   "source": [
    "df = pd.DataFrame(data)\n",
    "df.to_csv(\"./game_cmt.csv\", index=False)"
   ]
  },
  {
   "cell_type": "code",
   "execution_count": 51,
   "metadata": {},
   "outputs": [
    {
     "data": {
      "text/plain": [
       "51"
      ]
     },
     "execution_count": 51,
     "metadata": {},
     "output_type": "execute_result"
    }
   ],
   "source": [
    "len(df)"
   ]
  },
  {
   "cell_type": "code",
   "execution_count": 52,
   "metadata": {},
   "outputs": [
    {
     "data": {
      "text/html": [
       "<div>\n",
       "<style scoped>\n",
       "    .dataframe tbody tr th:only-of-type {\n",
       "        vertical-align: middle;\n",
       "    }\n",
       "\n",
       "    .dataframe tbody tr th {\n",
       "        vertical-align: top;\n",
       "    }\n",
       "\n",
       "    .dataframe thead th {\n",
       "        text-align: right;\n",
       "    }\n",
       "</style>\n",
       "<table border=\"1\" class=\"dataframe\">\n",
       "  <thead>\n",
       "    <tr style=\"text-align: right;\">\n",
       "      <th></th>\n",
       "      <th>Move</th>\n",
       "      <th>History (PGN)</th>\n",
       "      <th>Commentary</th>\n",
       "      <th>Eval Before</th>\n",
       "      <th>Eval After</th>\n",
       "      <th>Delta</th>\n",
       "      <th>Top K Best Moves</th>\n",
       "    </tr>\n",
       "  </thead>\n",
       "  <tbody>\n",
       "    <tr>\n",
       "      <th>0</th>\n",
       "      <td>g6</td>\n",
       "      <td>c4 c5 Nf3 Nf6 d4 cxd4 Nxd4</td>\n",
       "      <td>Many 4th moves for Black have been tried here,...</td>\n",
       "      <td>-13</td>\n",
       "      <td>34</td>\n",
       "      <td>47.0</td>\n",
       "      <td>b1c3, d7d6, e2e4</td>\n",
       "    </tr>\n",
       "    <tr>\n",
       "      <th>1</th>\n",
       "      <td>d5</td>\n",
       "      <td>c4 c5 Nf3 Nf6 d4 cxd4 Nxd4 g6 Nc3</td>\n",
       "      <td>White was threatening 6 P - K 4, transposing t...</td>\n",
       "      <td>-41</td>\n",
       "      <td>30</td>\n",
       "      <td>71.0</td>\n",
       "      <td>c1g5, f8g7</td>\n",
       "    </tr>\n",
       "    <tr>\n",
       "      <th>2</th>\n",
       "      <td>Bg5</td>\n",
       "      <td>c4 c5 Nf3 Nf6 d4 cxd4 Nxd4 g6 Nc3 d5</td>\n",
       "      <td>A better choice than 6 P x P, which leads to a...</td>\n",
       "      <td>24</td>\n",
       "      <td>-16</td>\n",
       "      <td>-40.0</td>\n",
       "      <td>f8g7, g5f6</td>\n",
       "    </tr>\n",
       "    <tr>\n",
       "      <th>3</th>\n",
       "      <td>Qa5</td>\n",
       "      <td>c4 c5 Nf3 Nf6 d4 cxd4 Nxd4 g6 Nc3 d5 Bg5 dxc4 e3</td>\n",
       "      <td>Premature. Better was 7... B - Kt 2.</td>\n",
       "      <td>-22</td>\n",
       "      <td>47</td>\n",
       "      <td>69.0</td>\n",
       "      <td>g5f6, e7f6, f1c4</td>\n",
       "    </tr>\n",
       "    <tr>\n",
       "      <th>4</th>\n",
       "      <td>Bb4</td>\n",
       "      <td>c4 c5 Nf3 Nf6 d4 cxd4 Nxd4 g6 Nc3 d5 Bg5 dxc4 ...</td>\n",
       "      <td>That he has played for the fianchetto and then...</td>\n",
       "      <td>-67</td>\n",
       "      <td>81</td>\n",
       "      <td>148.0</td>\n",
       "      <td>a1c1, b4c3, c1c3</td>\n",
       "    </tr>\n",
       "  </tbody>\n",
       "</table>\n",
       "</div>"
      ],
      "text/plain": [
       "  Move                                      History (PGN)  \\\n",
       "0   g6                         c4 c5 Nf3 Nf6 d4 cxd4 Nxd4   \n",
       "1   d5                  c4 c5 Nf3 Nf6 d4 cxd4 Nxd4 g6 Nc3   \n",
       "2  Bg5               c4 c5 Nf3 Nf6 d4 cxd4 Nxd4 g6 Nc3 d5   \n",
       "3  Qa5   c4 c5 Nf3 Nf6 d4 cxd4 Nxd4 g6 Nc3 d5 Bg5 dxc4 e3   \n",
       "4  Bb4  c4 c5 Nf3 Nf6 d4 cxd4 Nxd4 g6 Nc3 d5 Bg5 dxc4 ...   \n",
       "\n",
       "                                          Commentary Eval Before Eval After  \\\n",
       "0  Many 4th moves for Black have been tried here,...         -13         34   \n",
       "1  White was threatening 6 P - K 4, transposing t...         -41         30   \n",
       "2  A better choice than 6 P x P, which leads to a...          24        -16   \n",
       "3               Premature. Better was 7... B - Kt 2.         -22         47   \n",
       "4  That he has played for the fianchetto and then...         -67         81   \n",
       "\n",
       "   Delta  Top K Best Moves  \n",
       "0   47.0  b1c3, d7d6, e2e4  \n",
       "1   71.0        c1g5, f8g7  \n",
       "2  -40.0        f8g7, g5f6  \n",
       "3   69.0  g5f6, e7f6, f1c4  \n",
       "4  148.0  a1c1, b4c3, c1c3  "
      ]
     },
     "execution_count": 52,
     "metadata": {},
     "output_type": "execute_result"
    }
   ],
   "source": [
    "df.head()"
   ]
  }
 ],
 "metadata": {
  "kernelspec": {
   "display_name": ".venv",
   "language": "python",
   "name": "python3"
  },
  "language_info": {
   "codemirror_mode": {
    "name": "ipython",
    "version": 3
   },
   "file_extension": ".py",
   "mimetype": "text/x-python",
   "name": "python",
   "nbconvert_exporter": "python",
   "pygments_lexer": "ipython3",
   "version": "3.11.10"
  }
 },
 "nbformat": 4,
 "nbformat_minor": 2
}
